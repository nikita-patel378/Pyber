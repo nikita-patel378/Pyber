{
 "cells": [
  {
   "cell_type": "markdown",
   "metadata": {
    "collapsed": true
   },
   "source": [
    "Analysis\n",
    "\n",
    "Trend 1: There were more drivers in urban areas\n",
    "\n",
    "Trend 2: Rural areas had higher average fares.\n",
    "\n",
    "Trend 3: Overall, urban and suburban areas utilized ride sharing\n",
    "than rural areas."
   ]
  },
  {
   "cell_type": "code",
   "execution_count": 2,
   "metadata": {
    "collapsed": true
   },
   "outputs": [],
   "source": [
    "#Dependencies\n",
    "import matplotlib.pyplot as plt\n",
    "import pandas as pd\n",
    "import numpy as np"
   ]
  },
  {
   "cell_type": "code",
   "execution_count": 3,
   "metadata": {
    "collapsed": true
   },
   "outputs": [],
   "source": [
    "cities_data=pd.read_csv(\"raw data/city_data.csv\")\n",
    "rides_data=pd.read_csv(\"raw data/ride_data.csv\")"
   ]
  },
  {
   "cell_type": "code",
   "execution_count": 4,
   "metadata": {},
   "outputs": [
    {
     "data": {
      "text/html": [
       "<div>\n",
       "<style>\n",
       "    .dataframe thead tr:only-child th {\n",
       "        text-align: right;\n",
       "    }\n",
       "\n",
       "    .dataframe thead th {\n",
       "        text-align: left;\n",
       "    }\n",
       "\n",
       "    .dataframe tbody tr th {\n",
       "        vertical-align: top;\n",
       "    }\n",
       "</style>\n",
       "<table border=\"1\" class=\"dataframe\">\n",
       "  <thead>\n",
       "    <tr style=\"text-align: right;\">\n",
       "      <th></th>\n",
       "      <th>city</th>\n",
       "      <th>driver_count</th>\n",
       "      <th>type</th>\n",
       "    </tr>\n",
       "  </thead>\n",
       "  <tbody>\n",
       "    <tr>\n",
       "      <th>0</th>\n",
       "      <td>Kelseyland</td>\n",
       "      <td>63</td>\n",
       "      <td>Urban</td>\n",
       "    </tr>\n",
       "    <tr>\n",
       "      <th>1</th>\n",
       "      <td>Nguyenbury</td>\n",
       "      <td>8</td>\n",
       "      <td>Urban</td>\n",
       "    </tr>\n",
       "    <tr>\n",
       "      <th>2</th>\n",
       "      <td>East Douglas</td>\n",
       "      <td>12</td>\n",
       "      <td>Urban</td>\n",
       "    </tr>\n",
       "    <tr>\n",
       "      <th>3</th>\n",
       "      <td>West Dawnfurt</td>\n",
       "      <td>34</td>\n",
       "      <td>Urban</td>\n",
       "    </tr>\n",
       "    <tr>\n",
       "      <th>4</th>\n",
       "      <td>Rodriguezburgh</td>\n",
       "      <td>52</td>\n",
       "      <td>Urban</td>\n",
       "    </tr>\n",
       "  </tbody>\n",
       "</table>\n",
       "</div>"
      ],
      "text/plain": [
       "             city  driver_count   type\n",
       "0      Kelseyland            63  Urban\n",
       "1      Nguyenbury             8  Urban\n",
       "2    East Douglas            12  Urban\n",
       "3   West Dawnfurt            34  Urban\n",
       "4  Rodriguezburgh            52  Urban"
      ]
     },
     "execution_count": 4,
     "metadata": {},
     "output_type": "execute_result"
    }
   ],
   "source": [
    "cities_data.head()"
   ]
  },
  {
   "cell_type": "code",
   "execution_count": 5,
   "metadata": {},
   "outputs": [
    {
     "data": {
      "text/html": [
       "<div>\n",
       "<style>\n",
       "    .dataframe thead tr:only-child th {\n",
       "        text-align: right;\n",
       "    }\n",
       "\n",
       "    .dataframe thead th {\n",
       "        text-align: left;\n",
       "    }\n",
       "\n",
       "    .dataframe tbody tr th {\n",
       "        vertical-align: top;\n",
       "    }\n",
       "</style>\n",
       "<table border=\"1\" class=\"dataframe\">\n",
       "  <thead>\n",
       "    <tr style=\"text-align: right;\">\n",
       "      <th></th>\n",
       "      <th>city</th>\n",
       "      <th>date</th>\n",
       "      <th>fare</th>\n",
       "      <th>ride_id</th>\n",
       "    </tr>\n",
       "  </thead>\n",
       "  <tbody>\n",
       "    <tr>\n",
       "      <th>0</th>\n",
       "      <td>Sarabury</td>\n",
       "      <td>2016-01-16 13:49:27</td>\n",
       "      <td>38.35</td>\n",
       "      <td>5403689035038</td>\n",
       "    </tr>\n",
       "    <tr>\n",
       "      <th>1</th>\n",
       "      <td>South Roy</td>\n",
       "      <td>2016-01-02 18:42:34</td>\n",
       "      <td>17.49</td>\n",
       "      <td>4036272335942</td>\n",
       "    </tr>\n",
       "    <tr>\n",
       "      <th>2</th>\n",
       "      <td>Wiseborough</td>\n",
       "      <td>2016-01-21 17:35:29</td>\n",
       "      <td>44.18</td>\n",
       "      <td>3645042422587</td>\n",
       "    </tr>\n",
       "    <tr>\n",
       "      <th>3</th>\n",
       "      <td>Spencertown</td>\n",
       "      <td>2016-07-31 14:53:22</td>\n",
       "      <td>6.87</td>\n",
       "      <td>2242596575892</td>\n",
       "    </tr>\n",
       "    <tr>\n",
       "      <th>4</th>\n",
       "      <td>Nguyenbury</td>\n",
       "      <td>2016-07-09 04:42:44</td>\n",
       "      <td>6.28</td>\n",
       "      <td>1543057793673</td>\n",
       "    </tr>\n",
       "  </tbody>\n",
       "</table>\n",
       "</div>"
      ],
      "text/plain": [
       "          city                 date   fare        ride_id\n",
       "0     Sarabury  2016-01-16 13:49:27  38.35  5403689035038\n",
       "1    South Roy  2016-01-02 18:42:34  17.49  4036272335942\n",
       "2  Wiseborough  2016-01-21 17:35:29  44.18  3645042422587\n",
       "3  Spencertown  2016-07-31 14:53:22   6.87  2242596575892\n",
       "4   Nguyenbury  2016-07-09 04:42:44   6.28  1543057793673"
      ]
     },
     "execution_count": 5,
     "metadata": {},
     "output_type": "execute_result"
    }
   ],
   "source": [
    "rides_data.head()"
   ]
  },
  {
   "cell_type": "code",
   "execution_count": 6,
   "metadata": {},
   "outputs": [
    {
     "data": {
      "text/html": [
       "<div>\n",
       "<style>\n",
       "    .dataframe thead tr:only-child th {\n",
       "        text-align: right;\n",
       "    }\n",
       "\n",
       "    .dataframe thead th {\n",
       "        text-align: left;\n",
       "    }\n",
       "\n",
       "    .dataframe tbody tr th {\n",
       "        vertical-align: top;\n",
       "    }\n",
       "</style>\n",
       "<table border=\"1\" class=\"dataframe\">\n",
       "  <thead>\n",
       "    <tr style=\"text-align: right;\">\n",
       "      <th></th>\n",
       "      <th>city</th>\n",
       "      <th>date</th>\n",
       "      <th>fare</th>\n",
       "      <th>ride_id</th>\n",
       "      <th>driver_count</th>\n",
       "      <th>type</th>\n",
       "    </tr>\n",
       "  </thead>\n",
       "  <tbody>\n",
       "    <tr>\n",
       "      <th>0</th>\n",
       "      <td>Sarabury</td>\n",
       "      <td>2016-01-16 13:49:27</td>\n",
       "      <td>38.35</td>\n",
       "      <td>5403689035038</td>\n",
       "      <td>46</td>\n",
       "      <td>Urban</td>\n",
       "    </tr>\n",
       "    <tr>\n",
       "      <th>1</th>\n",
       "      <td>Sarabury</td>\n",
       "      <td>2016-07-23 07:42:44</td>\n",
       "      <td>21.76</td>\n",
       "      <td>7546681945283</td>\n",
       "      <td>46</td>\n",
       "      <td>Urban</td>\n",
       "    </tr>\n",
       "    <tr>\n",
       "      <th>2</th>\n",
       "      <td>Sarabury</td>\n",
       "      <td>2016-04-02 04:32:25</td>\n",
       "      <td>38.03</td>\n",
       "      <td>4932495851866</td>\n",
       "      <td>46</td>\n",
       "      <td>Urban</td>\n",
       "    </tr>\n",
       "    <tr>\n",
       "      <th>3</th>\n",
       "      <td>Sarabury</td>\n",
       "      <td>2016-06-23 05:03:41</td>\n",
       "      <td>26.82</td>\n",
       "      <td>6711035373406</td>\n",
       "      <td>46</td>\n",
       "      <td>Urban</td>\n",
       "    </tr>\n",
       "    <tr>\n",
       "      <th>4</th>\n",
       "      <td>Sarabury</td>\n",
       "      <td>2016-09-30 12:48:34</td>\n",
       "      <td>30.30</td>\n",
       "      <td>6388737278232</td>\n",
       "      <td>46</td>\n",
       "      <td>Urban</td>\n",
       "    </tr>\n",
       "  </tbody>\n",
       "</table>\n",
       "</div>"
      ],
      "text/plain": [
       "       city                 date   fare        ride_id  driver_count   type\n",
       "0  Sarabury  2016-01-16 13:49:27  38.35  5403689035038            46  Urban\n",
       "1  Sarabury  2016-07-23 07:42:44  21.76  7546681945283            46  Urban\n",
       "2  Sarabury  2016-04-02 04:32:25  38.03  4932495851866            46  Urban\n",
       "3  Sarabury  2016-06-23 05:03:41  26.82  6711035373406            46  Urban\n",
       "4  Sarabury  2016-09-30 12:48:34  30.30  6388737278232            46  Urban"
      ]
     },
     "execution_count": 6,
     "metadata": {},
     "output_type": "execute_result"
    }
   ],
   "source": [
    "cities_and_rides=pd.merge(rides_data,cities_data, on='city')\n",
    "cities_and_rides.head()"
   ]
  },
  {
   "cell_type": "code",
   "execution_count": 155,
   "metadata": {
    "collapsed": true
   },
   "outputs": [],
   "source": [
    "#average fare per city and type\n",
    "city_group=cities_and_rides.groupby([\"city\",\"type\"])\n",
    "average_fare=city_group[\"fare\"].mean().reset_index()\n",
    "average_fare_by_type=average_fare.set_index('type')\n",
    "average_fare_urban=average_fare_by_type.loc[\"Urban\"]\n",
    "average_fare_rural=average_fare_by_type.loc[\"Rural\"]\n",
    "average_fare_suburban=average_fare_by_type.loc[\"Suburban\"]\n",
    "\n",
    "#total number of rides per city\n",
    "count_rides=city_group['ride_id'].count().reset_index()\n",
    "count_rides_by_type=count_rides.set_index('type')\n",
    "count_rides_urban=count_rides_by_type.loc[\"Urban\"]\n",
    "count_rides_rural=count_rides_by_type.loc[\"Rural\"]\n",
    "count_rides_suburban=count_rides_by_type.loc[\"Suburban\"]\n",
    "\n",
    "#total number of drivers per city\n",
    "drivers=cities_data[[\"city\",\"driver_count\",\"type\"]]\n",
    "drivers_by_type=drivers.set_index('type')\n",
    "drivers_urban=drivers_by_type.loc[\"Urban\"]\n",
    "drivers_rural=drivers_by_type.loc[\"Rural\"]\n",
    "drivers_suburban=drivers_by_type.loc[\"Suburban\"]\n",
    "\n"
   ]
  },
  {
   "cell_type": "code",
   "execution_count": 167,
   "metadata": {},
   "outputs": [
    {
     "data": {
      "image/png": "[encoded data removed]",
      "text/plain": [
       "<matplotlib.figure.Figure at 0x1a6890e1080>"
      ]
     },
     "metadata": {},
     "output_type": "display_data"
    }
   ],
   "source": [
    "#plot data for Urban cities\n",
    "\n",
    "x_axis_urban= count_rides_urban['ride_id']\n",
    "y_axis_urban= average_fare_urban['fare']\n",
    "plt.scatter(x_axis_urban,y_axis_urban, color=\"lightskyblue\",s=drivers_urban['driver_count'],alpha=1.0,\n",
    "           label=\"Urban\")\n",
    "\n",
    "#plot data for Rural cities\n",
    "x_axis_rural= count_rides_rural['ride_id']\n",
    "y_axis_rural= average_fare_rural['fare']\n",
    "plt.scatter(x_axis_rural,y_axis_rural,color=\"gold\", s=drivers_rural['driver_count'],alpha=1.0,\n",
    "            label=\"Rural\")\n",
    "\n",
    "#plot data for Suburban cities\n",
    "x_axis_suburban= count_rides_suburban['ride_id']\n",
    "y_axis_suburban= average_fare_suburban['fare']\n",
    "plt.scatter(x_axis_suburban,y_axis_suburban,color=\"lightcoral\",s=drivers_suburban['driver_count'],\n",
    "            alpha=1.0, label=\"Suburban\")\n",
    "plt.legend(loc=\"best\")\n",
    "plt.xlabel(\"Total number of Rides(Per City)\")\n",
    "plt.ylabel(\"Average Fare($)\")\n",
    "plt.title(\"Pyber Ride Sharing Data\")\n",
    "plt.show()\n"
   ]
  },
  {
   "cell_type": "code",
   "execution_count": 15,
   "metadata": {},
   "outputs": [
    {
     "name": "stdout",
     "output_type": "stream",
     "text": [
      "type\n",
      "Rural    6.579786\n",
      "Name: fare, dtype: float64\n",
      "type\n",
      "Urban    61.974463\n",
      "Name: fare, dtype: float64\n",
      "type\n",
      "Suburban    31.44575\n",
      "Name: fare, dtype: float64\n"
     ]
    }
   ],
   "source": [
    "#total fares from data\n",
    "total_fares=cities_and_rides[\"fare\"].sum()\n",
    "#percentage of total fares by city type\n",
    "city_type=cities_and_rides.groupby('type')\n",
    "total_fares_by_type=city_type.sum().reset_index()\n",
    "\n",
    "total_fares_by_type\n",
    "type_index=total_fares_by_type.set_index('type')\n",
    "rural_fare=type_index.loc[[\"Rural\"],[\"fare\"]]\n",
    "percentage_rural_fare=((rural_fare[\"fare\"])/(total_fares)*100)\n",
    "print(percentage_rural_fare)\n",
    "urban_fare=type_index.loc[[\"Urban\"],[\"fare\"]]\n",
    "percentage_urban_fare=((urban_fare[\"fare\"])/(total_fares)*100)\n",
    "print(percentage_urban_fare)\n",
    "suburban_fare=type_index.loc[[\"Suburban\"],[\"fare\"]]\n",
    "percentage_suburban_fare=((suburban_fare[\"fare\"])/(total_fares)*100)\n",
    "print(percentage_suburban_fare)"
   ]
  },
  {
   "cell_type": "code",
   "execution_count": 16,
   "metadata": {},
   "outputs": [
    {
     "name": "stdout",
     "output_type": "stream",
     "text": [
      "type\n",
      "Rural    5.193187\n",
      "Name: ride_id, dtype: float64\n",
      "type\n",
      "Urban    67.511425\n",
      "Name: ride_id, dtype: float64\n",
      "type\n",
      "Suburban    27.295388\n",
      "Name: ride_id, dtype: float64\n"
     ]
    }
   ],
   "source": [
    "#total rides from data\n",
    "total_rides=cities_and_rides[\"ride_id\"].count()\n",
    "#percentage of total rides by city type\n",
    "total_rides_by_type=city_type.count().reset_index()\n",
    "type_index=total_rides_by_type.set_index('type')\n",
    "rural_rides=type_index.loc[[\"Rural\"],[\"ride_id\"]]\n",
    "percentage_rural_rides=((rural_rides[\"ride_id\"])/(total_rides)*100)\n",
    "print(percentage_rural_rides)\n",
    "urban_rides=type_index.loc[[\"Urban\"],[\"ride_id\"]]\n",
    "percentage_urban_rides=((urban_rides[\"ride_id\"])/(total_rides)*100)\n",
    "print(percentage_urban_rides)\n",
    "suburban_rides=type_index.loc[[\"Suburban\"],[\"ride_id\"]]\n",
    "percentage_suburban_rides=((suburban_rides[\"ride_id\"])/(total_rides)*100)\n",
    "print(percentage_suburban_rides)"
   ]
  },
  {
   "cell_type": "code",
   "execution_count": 17,
   "metadata": {},
   "outputs": [
    {
     "name": "stdout",
     "output_type": "stream",
     "text": [
      "type\n",
      "Rural    3.105405\n",
      "Name: driver_count, dtype: float64\n",
      "type\n",
      "Urban    77.844133\n",
      "Name: driver_count, dtype: float64\n",
      "type\n",
      "Suburban    19.050463\n",
      "Name: driver_count, dtype: float64\n"
     ]
    }
   ],
   "source": [
    "#total drivers from data\n",
    "total_drivers=cities_data[\"driver_count\"].sum()\n",
    "#percentage of total drivers by city type\n",
    "city_type=cities_data.groupby('type')\n",
    "total_drivers_by_type=city_type.sum().reset_index()\n",
    "type_index=total_drivers_by_type.set_index('type')\n",
    "rural_drivers=type_index.loc[[\"Rural\"],[\"driver_count\"]]\n",
    "percentage_rural_drivers=((rural_drivers[\"driver_count\"])/(total_drivers)*100)\n",
    "print(percentage_rural_drivers)\n",
    "urban_drivers=type_index.loc[[\"Urban\"],[\"driver_count\"]]\n",
    "percentage_urban_drivers=((urban_drivers[\"driver_count\"])/(total_drivers)*100)\n",
    "print(percentage_urban_drivers)\n",
    "suburban_drivers=type_index.loc[[\"Suburban\"],[\"driver_count\"]]\n",
    "percentage_suburban_drivers=((suburban_drivers[\"driver_count\"])/(total_drivers)*100)\n",
    "print(percentage_suburban_drivers)\n"
   ]
  },
  {
   "cell_type": "code",
   "execution_count": 21,
   "metadata": {
    "collapsed": true
   },
   "outputs": [],
   "source": [
    "#pie charts\n",
    "labels=[\"Rural\",\"Urban\",\"Suburban\"]\n",
    "sizes = [percentage_rural_fare,percentage_urban_fare,percentage_suburban_fare]\n",
    "\n",
    "colors=[\"gold\",\"lightskyblue\",\"lightcoral\"]\n",
    "explode=(0,0.1,0)"
   ]
  },
  {
   "cell_type": "code",
   "execution_count": 26,
   "metadata": {},
   "outputs": [
    {
     "data": {
      "text/plain": [
       "Text(0.5,1,'Percentage of Total Fares by City Type')"
      ]
     },
     "execution_count": 26,
     "metadata": {},
     "output_type": "execute_result"
    }
   ],
   "source": [
    "plt.pie(sizes, explode=explode, labels=labels, colors=colors,\n",
    "        autopct=\"%1.1f%%\", shadow=True, startangle=140)\n",
    "plt.axis(\"equal\")\n",
    "plt.title(\"Percentage of Total Fares by City Type\")"
   ]
  },
  {
   "cell_type": "code",
   "execution_count": 27,
   "metadata": {},
   "outputs": [
    {
     "data": {
      "image/png": "[encoded data removed]",
      "text/plain": [
       "<matplotlib.figure.Figure at 0x1a6879d0f60>"
      ]
     },
     "metadata": {},
     "output_type": "display_data"
    }
   ],
   "source": [
    "plt.show()"
   ]
  },
  {
   "cell_type": "code",
   "execution_count": 32,
   "metadata": {
    "collapsed": true
   },
   "outputs": [],
   "source": [
    "labels=[\"Rural\",\"Urban\",\"Suburban\"]\n",
    "sizes = [percentage_rural_rides,percentage_urban_rides,percentage_suburban_rides]\n",
    "colors=[\"gold\",\"lightskyblue\",\"lightcoral\"]\n",
    "explode=(0,0.1,0)"
   ]
  },
  {
   "cell_type": "code",
   "execution_count": 33,
   "metadata": {},
   "outputs": [
    {
     "data": {
      "text/plain": [
       "Text(0.5,1,'Percentage of Total Rides by City Type')"
      ]
     },
     "execution_count": 33,
     "metadata": {},
     "output_type": "execute_result"
    }
   ],
   "source": [
    "plt.pie(sizes, explode=explode, labels=labels, colors=colors,\n",
    "        autopct=\"%1.1f%%\", shadow=True, startangle=140)\n",
    "plt.axis(\"equal\")\n",
    "plt.title(\"Percentage of Total Rides by City Type\")"
   ]
  },
  {
   "cell_type": "code",
   "execution_count": 34,
   "metadata": {},
   "outputs": [
    {
     "data": {
      "image/png": "[encoded data removed]",
      "text/plain": [
       "<matplotlib.figure.Figure at 0x1a687a2cb00>"
      ]
     },
     "metadata": {},
     "output_type": "display_data"
    }
   ],
   "source": [
    "plt.show()"
   ]
  },
  {
   "cell_type": "code",
   "execution_count": 35,
   "metadata": {
    "collapsed": true
   },
   "outputs": [],
   "source": [
    "labels=[\"Rural\",\"Urban\",\"Suburban\"]\n",
    "sizes =[percentage_rural_drivers,percentage_urban_drivers,percentage_suburban_drivers]\n",
    "colors=[\"gold\",\"lightskyblue\",\"lightcoral\"]\n",
    "explode=(0,0.1,0)"
   ]
  },
  {
   "cell_type": "code",
   "execution_count": 36,
   "metadata": {},
   "outputs": [
    {
     "data": {
      "text/plain": [
       "Text(0.5,1,'Percentage of Total Drivers by City Type')"
      ]
     },
     "execution_count": 36,
     "metadata": {},
     "output_type": "execute_result"
    }
   ],
   "source": [
    "plt.pie(sizes,explode=explode, labels=labels, colors=colors,\n",
    "        autopct=\"%1.1f%%\", shadow=True, startangle=140)\n",
    "plt.axis(\"equal\")\n",
    "plt.title(\"Percentage of Total Drivers by City Type\")"
   ]
  },
  {
   "cell_type": "code",
   "execution_count": 37,
   "metadata": {},
   "outputs": [
    {
     "data": {
      "image/png": "[encoded data removed]",
      "text/plain": [
       "<matplotlib.figure.Figure at 0x1a687a45748>"
      ]
     },
     "metadata": {},
     "output_type": "display_data"
    }
   ],
   "source": [
    "plt.show()"
   ]
  }
 ],
 "metadata": {
  "kernelspec": {
   "display_name": "Python [conda env:PythonData2]",
   "language": "python",
   "name": "conda-env-PythonData2-py"
  },
  "language_info": {
   "codemirror_mode": {
    "name": "ipython",
    "version": 3
   },
   "file_extension": ".py",
   "mimetype": "text/x-python",
   "name": "python",
   "nbconvert_exporter": "python",
   "pygments_lexer": "ipython3",
   "version": "3.6.3"
  }
 },
 "nbformat": 4,
 "nbformat_minor": 2
}
